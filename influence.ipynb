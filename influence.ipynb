{
 "cells": [
  {
   "cell_type": "code",
   "execution_count": 1,
   "metadata": {
    "ExecuteTime": {
     "end_time": "2018-07-18T16:10:56.894478Z",
     "start_time": "2018-07-18T16:10:50.950390Z"
    }
   },
   "outputs": [
    {
     "name": "stderr",
     "output_type": "stream",
     "text": [
      "Using TensorFlow backend.\n"
     ]
    }
   ],
   "source": [
    "import csv\n",
    "import importlib\n",
    "import itertools\n",
    "import operator\n",
    "import os\n",
    "import random\n",
    "import time\n",
    "from math import e, exp, log, pi, sqrt\n",
    "import os\n",
    "import psutil\n",
    "\n",
    "import keras.layers as layers\n",
    "import copy\n",
    "import keras.models\n",
    "import matplotlib.pyplot as plt\n",
    "import numpy as np\n",
    "import pandas as pd\n",
    "import scipy\n",
    "from keras import backend as K\n",
    "from keras.callbacks import EarlyStopping\n",
    "from keras.models import Model\n",
    "from keras.optimizers import Adam\n",
    "from keras.utils import np_utils\n",
    "from numba import guvectorize, jit, njit, prange, vectorize\n",
    "from sklearn.metrics import accuracy_score, confusion_matrix, f1_score\n",
    "\n",
    "import tensorflow as tf\n",
    "from os.path import *\n",
    "import glob\n",
    "import cnn_builder as cbuild\n",
    "import cnn_runner as crun\n",
    "import config\n",
    "import dr_methods as drm\n",
    "import feature_interpretation as cnna\n",
    "import niftiutils.helper_fxns as hf\n",
    "import niftiutils.transforms as tr\n",
    "import niftiutils.visualization as vis\n",
    "import voi_methods as vm\n",
    "import feature_influence as finf\n",
    "import niftiutils.deep_learning.common as common\n",
    "import math\n",
    "import tensorflow as tf\n",
    "from keras import backend as K\n",
    "c = tf.ConfigProto()\n",
    "c.gpu_options.allow_growth=True\n",
    "sess = tf.Session(config=c)\n",
    "K.set_session(sess)\n",
    "\n",
    "%matplotlib inline\n",
    "np.set_printoptions(3)"
   ]
  },
  {
   "cell_type": "code",
   "execution_count": 2,
   "metadata": {
    "ExecuteTime": {
     "end_time": "2018-07-19T14:50:22.823125Z",
     "start_time": "2018-07-19T14:50:22.759134Z"
    }
   },
   "outputs": [],
   "source": [
    "importlib.reload(config)\n",
    "importlib.reload(hf)\n",
    "importlib.reload(cbuild)\n",
    "importlib.reload(cnna)\n",
    "importlib.reload(crun)\n",
    "C = config.Config()\n",
    "T = config.Hyperparams(C.dataset)"
   ]
  },
  {
   "cell_type": "code",
   "execution_count": null,
   "metadata": {
    "ExecuteTime": {
     "end_time": "2018-07-19T14:49:42.112672Z",
     "start_time": "2018-07-19T14:49:42.102670Z"
    },
    "collapsed": true
   },
   "outputs": [],
   "source": [
    "R.pred_model.summary()"
   ]
  },
  {
   "cell_type": "code",
   "execution_count": null,
   "metadata": {
    "ExecuteTime": {
     "end_time": "2018-07-19T15:42:10.218645Z",
     "start_time": "2018-07-19T14:50:24.889501Z"
    },
    "collapsed": true
   },
   "outputs": [],
   "source": [
    "R = crun.CNNRunner(C,T)\n",
    "R.run_fixed_hyperparams(max_runs=2, Z_test=C.Z_reader, model_name='fixZ_std_', verbose=True)"
   ]
  },
  {
   "cell_type": "markdown",
   "metadata": {},
   "source": [
    "### KDE for feature identification"
   ]
  },
  {
   "cell_type": "code",
   "execution_count": null,
   "metadata": {},
   "outputs": [],
   "source": [
    "importlib.reload(cnna)\n",
    "full_dfs = cnna.feature_id_bulk(range(10,20))"
   ]
  },
  {
   "cell_type": "code",
   "execution_count": 3,
   "metadata": {},
   "outputs": [],
   "source": [
    "Z_test = ['E103312835_1','12823036_0','12569915_0','E102093118_0','E102782525_0','12799652_0','E100894274_0','12874178_3','E100314676_0','12842070_0','13092836_2','12239783_0','12783467_0','13092966_0','E100962970_0','E100183257_1','E102634440_0','E106182827_0','12582632_0','E100121654_0','E100407633_0','E105310461_0','12788616_0','E101225606_0','12678910_1','E101083458_1','12324408_0','13031955_0','E101415263_0','E103192914_0','12888679_2','E106096969_0','E100192709_1','13112385_1','E100718398_0','12207268_0','E105244287_0','E102095465_0','E102613189_0','12961059_0','11907521_0','E105311123_0','12552705_0','E100610622_0','12975280_0','E105918926_0','E103020139_1','E101069048_1','E105427046_0','13028374_0','E100262351_0','12302576_0','12451831_0','E102929168_0','E100383453_0','E105344747_0','12569826_0','E100168661_0','12530153_0','E104697262_0']"
   ]
  },
  {
   "cell_type": "code",
   "execution_count": 4,
   "metadata": {
    "ExecuteTime": {
     "end_time": "2018-07-18T16:10:57.895992Z",
     "start_time": "2018-07-18T16:10:57.024890Z"
    },
    "scrolled": false
   },
   "outputs": [],
   "source": [
    "orig_data_dict, num_samples = cbuild._collect_unaug_data()\n",
    "num_annotations = 10\n",
    "\n",
    "features_by_cls, feat_count = cnna.collect_features()\n",
    "feat_count.pop(\"homogeneous texture\")\n",
    "all_features = sorted(list(feat_count.keys()))\n",
    "cls_features = {f: [c for c in C.cls_names if f in features_by_cls[c]] for f in all_features}\n",
    "\n",
    "Z_features = cnna.get_annotated_files(features_by_cls, num_annotations)\n",
    "Z_features.pop(\"homogeneous texture\")\n",
    "\n",
    "num_features = len(all_features) # number of features\n",
    "\n",
    "all_imgs = [orig_data_dict[cls][0] for cls in C.cls_names]\n",
    "all_imgs = np.array(hf.flatten(all_imgs))\n",
    "\n",
    "all_lesionids = [orig_data_dict[cls][1] for cls in C.cls_names]\n",
    "all_lesionids = np.array(hf.flatten(all_lesionids))\n",
    "test_indices = np.where(np.isin(all_lesionids, C.Z_reader))[0]\n",
    "\n",
    "x_test = all_imgs[test_indices]\n",
    "z_test = all_lesionids[test_indices]\n",
    "\n",
    "full_dfs = []\n",
    "\n",
    "train_indices = np.where(~np.isin(all_lesionids, C.Z_reader))[0]\n",
    "z_train = all_lesionids[train_indices]\n",
    "x_train = all_imgs[train_indices]"
   ]
  },
  {
   "cell_type": "code",
   "execution_count": 7,
   "metadata": {
    "ExecuteTime": {
     "end_time": "2018-07-18T16:10:59.536145Z",
     "start_time": "2018-07-18T16:10:59.532175Z"
    }
   },
   "outputs": [],
   "source": [
    "model_prefix = 'fixZ_std_'\n",
    "model_ix = 0"
   ]
  },
  {
   "cell_type": "code",
   "execution_count": 8,
   "metadata": {
    "ExecuteTime": {
     "end_time": "2018-07-19T14:32:25.565159Z",
     "start_time": "2018-07-19T14:32:25.561171Z"
    }
   },
   "outputs": [],
   "source": [
    "features_cls_dict = {f:[cls for cls in C.cls_names if f in features_by_cls[cls]] for f in all_features}"
   ]
  },
  {
   "cell_type": "code",
   "execution_count": 9,
   "metadata": {},
   "outputs": [],
   "source": [
    "z_train_cls = {cls:orig_data_dict[cls][1] for cls in C.cls_names}"
   ]
  },
  {
   "cell_type": "code",
   "execution_count": 10,
   "metadata": {},
   "outputs": [],
   "source": [
    "excl_features = {f:[] for f in all_features}\n",
    "for f in all_features:\n",
    "    for g in all_features:\n",
    "        if len(set(features_cls_dict[g]).intersection(features_cls_dict[f])) == 0:\n",
    "            excl_features[f].append(g)"
   ]
  },
  {
   "cell_type": "markdown",
   "metadata": {
    "ExecuteTime": {
     "end_time": "2018-07-13T04:26:42.320902Z",
     "start_time": "2018-07-13T04:26:27.641384Z"
    }
   },
   "source": [
    "fullM = keras.models.load_model(join(C.model_dir, model_prefix+\"%d.hdf5\" % model_ix))\n",
    "M = keras.models.load_model(join(C.model_dir, model_prefix+\"%d.hdf5\" % model_ix))\n",
    "M = common.pop_n_layers(M, 3)\n",
    "\n",
    "all_dense = cnna.get_overall_activations(M, orig_data_dict)\n",
    "feature_dense = cnna.get_feature_activations(M, Z_features, all_features)"
   ]
  },
  {
   "cell_type": "code",
   "execution_count": 29,
   "metadata": {},
   "outputs": [],
   "source": [
    "import shutil\n",
    "shutil.rmtree(\"/data/vision/polina/users/clintonw/code/voi-classifier/imgs/aug_imgs/aug_imgs\")"
   ]
  },
  {
   "cell_type": "code",
   "execution_count": 79,
   "metadata": {},
   "outputs": [
    {
     "data": {
      "text/plain": [
       "['/data/vision/polina/users/clintonw/code/voi-classifier/imgs/unaug_imgs/E100718398_0.npy']"
      ]
     },
     "execution_count": 79,
     "metadata": {},
     "output_type": "execute_result"
    }
   ],
   "source": [
    "len(glob.glob(\"/data/vision/polina/users/clintonw/code/voi-classifier/imgs/unaug_imgs/E100718398_0*\"))"
   ]
  },
  {
   "cell_type": "code",
   "execution_count": 8,
   "metadata": {},
   "outputs": [],
   "source": [
    "importlib.reload(cnna)\n",
    "fullM = keras.models.load_model(join(C.model_dir, model_prefix+\"%d.hdf5\" % model_ix))\n",
    "model_fc = keras.models.load_model(join(C.model_dir, model_prefix+\"%d.hdf5\" % model_ix))\n",
    "model_fc = common.pop_n_layers(model_fc, 3)\n",
    "model_conv = keras.models.load_model(join(C.model_dir, model_prefix+\"%d.hdf5\" % model_ix))\n",
    "model_conv = common.pop_n_layers(model_conv, 9)"
   ]
  },
  {
   "cell_type": "code",
   "execution_count": 11,
   "metadata": {},
   "outputs": [],
   "source": [
    "all_dense = cnna.get_overall_activations(z_train_cls, model_fc, samples=500)"
   ]
  },
  {
   "cell_type": "code",
   "execution_count": 10,
   "metadata": {},
   "outputs": [],
   "source": [
    "feature_dense = cnna.get_feature_activations(Z_features, all_features, model_fc)"
   ]
  },
  {
   "cell_type": "code",
   "execution_count": null,
   "metadata": {},
   "outputs": [],
   "source": [
    "shutil.copy(\"/data/vision/polina/users/clintonw/code/voi-classifier/imgs/aug_imgs/E102284920_0_2.npy\", \"/data/vision/polina/users/clintonw/code/voi-classifier/imgs/aug_imgs/E102284920_0_1.npy\")"
   ]
  },
  {
   "cell_type": "code",
   "execution_count": 15,
   "metadata": {
    "scrolled": false
   },
   "outputs": [
    {
     "name": "stdout",
     "output_type": "stream",
     "text": [
      "...................................................................................................................................................................................................................................................................................................................................................................................................................................................................."
     ]
    }
   ],
   "source": [
    "train_df = cnna.predict_test_features(fullM, model_fc, all_dense, feature_dense, x_train, z_train, Z_features=Z_features, num_samples=2)"
   ]
  },
  {
   "cell_type": "code",
   "execution_count": 16,
   "metadata": {
    "ExecuteTime": {
     "end_time": "2018-07-19T03:59:50.128056Z",
     "start_time": "2018-07-19T03:58:37.643572Z"
    }
   },
   "outputs": [
    {
     "name": "stdout",
     "output_type": "stream",
     "text": [
      "............................................................"
     ]
    }
   ],
   "source": [
    "importlib.reload(cnna)\n",
    "test_df = cnna.predict_test_features(fullM, model_fc, all_dense, feature_dense, x_test, z_test, num_samples=30)"
   ]
  },
  {
   "cell_type": "code",
   "execution_count": 17,
   "metadata": {},
   "outputs": [],
   "source": [
    "hf.pickle_dump(train_df, join(C.model_dir, \"train_df_%d.bin\" % model_ix))\n",
    "hf.pickle_dump(test_df, join(C.model_dir, \"test_df_%d.bin\" % model_ix))"
   ]
  },
  {
   "cell_type": "code",
   "execution_count": 359,
   "metadata": {},
   "outputs": [],
   "source": [
    "train_df = hf.pickle_load(join(C.model_dir, \"train_df_%d.bin\" % model_ix))\n",
    "test_df = hf.pickle_load(join(C.model_dir, \"test_df_%d.bin\" % model_ix))"
   ]
  },
  {
   "cell_type": "code",
   "execution_count": 18,
   "metadata": {},
   "outputs": [],
   "source": [
    "priors = {f:0 for f in all_features}\n",
    "thresh = {f:0 for f in all_features}\n",
    "for f in all_features:\n",
    "    priors[f] = np.max(train_df.loc[:, f].values)\n",
    "    thresh[f] = np.min(train_df.loc[Z_features[f], f].values)"
   ]
  },
  {
   "cell_type": "markdown",
   "metadata": {
    "ExecuteTime": {
     "end_time": "2018-07-18T21:25:43.201613Z",
     "start_time": "2018-07-18T21:25:43.148726Z"
    },
    "scrolled": true
   },
   "source": [
    "priors = {f:0 for f in all_features}\n",
    "for cls in C.cls_names:\n",
    "    for f in all_features:\n",
    "        priors[f] += np.mean(np.log(train_df.loc[train_df[\"true_cls\"] == cls, f].values))\n",
    "        \n",
    "for f in all_features:\n",
    "    priors[f] = priors[f] / 6"
   ]
  },
  {
   "cell_type": "markdown",
   "metadata": {},
   "source": [
    "for f in all_features:\n",
    "    priors[f] = np.max(np.log(test_df[f].values))"
   ]
  },
  {
   "cell_type": "code",
   "execution_count": null,
   "metadata": {},
   "outputs": [],
   "source": [
    "for f in all_features:\n",
    "    print(f, thresh[f]/priors[f])"
   ]
  },
  {
   "cell_type": "code",
   "execution_count": 19,
   "metadata": {
    "ExecuteTime": {
     "end_time": "2018-07-19T04:05:23.406849Z",
     "start_time": "2018-07-19T04:05:23.402860Z"
    }
   },
   "outputs": [],
   "source": [
    "df = copy.deepcopy(test_df)\n",
    "for l_id in df.index:\n",
    "    for f in all_features:\n",
    "        df.loc[l_id, f] = df.loc[l_id, f] / priors[f] if df.loc[l_id, f] > thresh[f] else 0"
   ]
  },
  {
   "cell_type": "code",
   "execution_count": 20,
   "metadata": {},
   "outputs": [],
   "source": [
    "arank = df.drop(['true_cls','pred_cls'], axis=1).apply(np.argsort, axis=1)\n",
    "ranked_cols = df.columns[2:].to_series()[arank.values[:,::-1]]\n",
    "new_df = pd.DataFrame(ranked_cols, index=df.index)"
   ]
  },
  {
   "cell_type": "code",
   "execution_count": 21,
   "metadata": {
    "scrolled": true
   },
   "outputs": [],
   "source": [
    "pred_f_cols = ['feature_1', 'feature_2', 'feature_3', 'feature_4']\n",
    "for ix,col in enumerate(pred_f_cols):\n",
    "    df[col] = new_df[ix].values"
   ]
  },
  {
   "cell_type": "code",
   "execution_count": 25,
   "metadata": {},
   "outputs": [],
   "source": [
    "for lesion_id, row in df.iterrows(): #exclude incompatible features\n",
    "    for col in pred_f_cols[1:]:\n",
    "        f = row[col]\n",
    "        #exc = sum([row[g]>0 for g in excl_features[f]])\n",
    "        if row[f] == 0:# or row['feature_1'] in excl_features[f]:#exc >= 1:\n",
    "            df.loc[lesion_id, f] = 0\n",
    "            df.loc[lesion_id, col] = np.nan"
   ]
  },
  {
   "cell_type": "markdown",
   "metadata": {},
   "source": [
    "arank = df.drop(['true_cls','pred_cls'] + pred_f_cols, axis=1).apply(np.argsort, axis=1)\n",
    "ranked_cols = df.columns[2:].to_series()[arank.values[:,::-1]]\n",
    "new_df = pd.DataFrame(ranked_cols, index=df.index)\n",
    "pred_f_cols = ['feature_1', 'feature_2', 'feature_3', 'feature_4']\n",
    "for ix,col in enumerate(pred_f_cols):\n",
    "    df[col] = new_df[ix].values\n",
    "for lesion_id, row in df.iterrows():\n",
    "    for col in pred_f_cols[1:]:\n",
    "        f = row[col]\n",
    "        if row[f] == 0:\n",
    "            df.loc[lesion_id, col] = np.nan"
   ]
  },
  {
   "cell_type": "code",
   "execution_count": 35,
   "metadata": {},
   "outputs": [],
   "source": [
    "hf.pickle_dump(df, join(C.model_dir, \"df_%d.bin\" % model_ix))"
   ]
  },
  {
   "cell_type": "code",
   "execution_count": 67,
   "metadata": {},
   "outputs": [],
   "source": [
    "model_ix = 1\n",
    "df = hf.pickle_load(join(C.model_dir, \"df_%d.bin\" % model_ix))"
   ]
  },
  {
   "cell_type": "code",
   "execution_count": 5,
   "metadata": {},
   "outputs": [],
   "source": [
    "prefix = \"\"#\"noaug_\"\n",
    "full_dfs = [hf.pickle_load(join(C.model_dir, prefix+\"df_%d.bin\" % ix)) for ix in range(20)]"
   ]
  },
  {
   "cell_type": "code",
   "execution_count": 6,
   "metadata": {},
   "outputs": [],
   "source": [
    "data_dir = join(C.base_dir, 'excel')\n",
    "answer_key = join(data_dir, \"ground_truth.xlsx\")\n",
    "answer_key = pd.read_excel(answer_key, index_col=0)"
   ]
  },
  {
   "cell_type": "code",
   "execution_count": 7,
   "metadata": {},
   "outputs": [],
   "source": [
    "miscls_accnums = [[accnum for accnum in answer_key.index if df.loc[accnum, 'true_cls'] != df.loc[accnum, 'pred_cls']] \\\n",
    "                  for df in full_dfs]"
   ]
  },
  {
   "cell_type": "code",
   "execution_count": 26,
   "metadata": {
    "scrolled": true
   },
   "outputs": [],
   "source": [
    "importlib.reload(cnna)\n",
    "feat_df, cls_df, MISCLS, prec_history, recall_history, perfect, miscls_accnums = cnna.process_feat_id_dfs(all_features, full_dfs, class_condition=False)"
   ]
  },
  {
   "cell_type": "code",
   "execution_count": 27,
   "metadata": {},
   "outputs": [],
   "source": [
    "hf.pickle_dump(prec_history, join(C.model_dir, prefix+\"prec_history.bin\"))\n",
    "hf.pickle_dump(recall_history, join(C.model_dir, prefix+\"recall_history.bin\"))"
   ]
  },
  {
   "cell_type": "code",
   "execution_count": 30,
   "metadata": {},
   "outputs": [
    {
     "data": {
      "text/plain": [
       "(0.7757635402501387, 0.712012987012987)"
      ]
     },
     "execution_count": 30,
     "metadata": {},
     "output_type": "execute_result"
    }
   ],
   "source": [
    "np.mean(prec_history[\"total\"]), np.mean(recall_history[\"total\"])"
   ]
  },
  {
   "cell_type": "code",
   "execution_count": 29,
   "metadata": {
    "scrolled": true
   },
   "outputs": [
    {
     "data": {
      "text/plain": [
       "0.7700850378851273"
      ]
     },
     "execution_count": 29,
     "metadata": {},
     "output_type": "execute_result"
    }
   ],
   "source": [
    "(feat_df[\"num_correct\"]/feat_df[\"pred_freq\"]).mean()"
   ]
  },
  {
   "cell_type": "code",
   "execution_count": null,
   "metadata": {},
   "outputs": [],
   "source": [
    "[print(\" & \".join([f,\n",
    "   str(int(feat_df.loc[f, \"true_freq\"]/20)),\n",
    "   \"%.1f $\\pm$ %.1f\\%%\"%(100*np.mean(prec_history[f]),\n",
    "                      100*np.std(prec_history[f])),\n",
    "   \"%.1f $\\pm$ %.1f\\%%\"%(100*np.mean(recall_history[f]),\n",
    "                      100*np.std(recall_history[f])),\n",
    "                  ])) for f in all_features];"
   ]
  },
  {
   "cell_type": "code",
   "execution_count": 11,
   "metadata": {},
   "outputs": [],
   "source": [
    "import seaborn as sns"
   ]
  },
  {
   "cell_type": "code",
   "execution_count": 55,
   "metadata": {},
   "outputs": [],
   "source": [
    "X = []\n",
    "for f in all_features:\n",
    "    for i in range(20):\n",
    "        X.append([i, f, prec_history[f][i], recall_history[f][i]])"
   ]
  },
  {
   "cell_type": "code",
   "execution_count": 56,
   "metadata": {},
   "outputs": [],
   "source": [
    "df = pd.DataFrame(X, columns=[\"run number\", \"feature\", \"precision\", \"recall\"])"
   ]
  },
  {
   "cell_type": "code",
   "execution_count": 68,
   "metadata": {
    "scrolled": true
   },
   "outputs": [],
   "source": [
    "melt_df = df.melt(id_vars=[\"run number\", \"feature\"], value_vars=[\"precision\", \"recall\"], var_name=\"metric\")"
   ]
  },
  {
   "cell_type": "code",
   "execution_count": 100,
   "metadata": {},
   "outputs": [],
   "source": [
    "for ix, row in df.iterrows():\n",
    "    df.loc[ix, \"precision_mean\"] = df.loc[df.feature == df.loc[ix, \"feature\"], \"precision\"].mean()"
   ]
  },
  {
   "cell_type": "code",
   "execution_count": 101,
   "metadata": {},
   "outputs": [],
   "source": [
    "df = df.sort_values(\"precision_mean\")"
   ]
  },
  {
   "cell_type": "code",
   "execution_count": null,
   "metadata": {},
   "outputs": [],
   "source": [
    "for i,x in enumerate(sorted(all_features, key=lambda f: np.mean(prec_history[f]))):\n",
    "    print(str(i+1) + \": \" + x)"
   ]
  },
  {
   "cell_type": "code",
   "execution_count": 32,
   "metadata": {},
   "outputs": [],
   "source": [
    "prefix = \"noaug_\"\n",
    "prec_history = hf.pickle_load(join(C.model_dir, prefix+\"prec_history.bin\"))\n",
    "recall_history = hf.pickle_load(join(C.model_dir, prefix+\"recall_history.bin\"))"
   ]
  },
  {
   "cell_type": "code",
   "execution_count": 33,
   "metadata": {},
   "outputs": [],
   "source": [
    "X_tot = []\n",
    "for i in range(20):\n",
    "    X_tot.append([i, prec_history[\"total\"][i], recall_history[\"total\"][i]])\n",
    "df_total = pd.DataFrame(X_tot, columns=[\"run number\", \"precision\", \"recall\"])\n",
    "df_total = df_total.melt(id_vars=[\"run number\"], value_vars=[\"precision\", \"recall\"], var_name=\"metric\")"
   ]
  },
  {
   "cell_type": "code",
   "execution_count": 34,
   "metadata": {},
   "outputs": [
    {
     "data": {
      "image/png": "[encoded data removed]",
      "text/plain": [
       "<Figure size 432x108 with 1 Axes>"
      ]
     },
     "metadata": {
      "needs_background": "light"
     },
     "output_type": "display_data"
    }
   ],
   "source": [
    "plt.figure(figsize=(6,1.5))\n",
    "ax = sns.boxplot(x=\"value\", y=\"metric\", color='#86b95e', data=df_total)\n",
    "#ax = sns.boxplot(x=\"feature\", y=\"value\", hue=\"metric\", data=melt_df)\n",
    "ax.set(xlim=[.65,.9])\n",
    "vals = ax.get_xticks()\n",
    "ax.set_xticklabels(['{:,.0%}'.format(x) for x in vals]);\n",
    "ax.set(xlabel='', ylabel='Metric');\n",
    "ax.set_yticklabels(['Precision', 'Recall']);\n",
    "plt.savefig(\"/data/vision/polina/users/clintonw/overall_noaug.png\", dpi=800, bbox_inches=\"tight\", pad_inches=0)"
   ]
  },
  {
   "cell_type": "code",
   "execution_count": null,
   "metadata": {},
   "outputs": [],
   "source": [
    "plt.figure(figsize=(10,4))\n",
    "ax = sns.boxplot(x=\"feature\", y=\"precision\", color='#86b95e', data=df)\n",
    "#ax = sns.boxplot(x=\"feature\", y=\"value\", hue=\"metric\", data=melt_df)\n",
    "ax.set(xlabel='Features', xticks=[], ylabel='Precision');#, xticklabels=range(1,15));"
   ]
  },
  {
   "cell_type": "code",
   "execution_count": 166,
   "metadata": {},
   "outputs": [
    {
     "data": {
      "image/png": "[encoded data removed]",
      "text/plain": [
       "<Figure size 360x288 with 1 Axes>"
      ]
     },
     "metadata": {
      "needs_background": "light"
     },
     "output_type": "display_data"
    }
   ],
   "source": [
    "plt.figure(figsize=(5,4))\n",
    "ax = sns.boxplot(y=\"feature\", x=\"precision\", color='#86b95e', data=df)\n",
    "ax.set(xlim=[0.1,1.05])\n",
    "vals = ax.get_xticks()\n",
    "ax.set_xticklabels(['{:,.0%}'.format(x) for x in vals]);\n",
    "#ax = sns.boxplot(x=\"feature\", y=\"value\", hue=\"metric\", data=melt_df)\n",
    "ax.set(ylabel='Features', yticklabels=range(1,15), xlabel='Precision');\n",
    "plt.savefig(\"/data/vision/polina/users/clintonw/precision.png\", dpi=800, bbox_inches=\"tight\", pad_inches=0)"
   ]
  },
  {
   "cell_type": "code",
   "execution_count": 170,
   "metadata": {},
   "outputs": [
    {
     "data": {
      "image/png": "[encoded data removed]",
      "text/plain": [
       "<Figure size 360x288 with 1 Axes>"
      ]
     },
     "metadata": {
      "needs_background": "light"
     },
     "output_type": "display_data"
    }
   ],
   "source": [
    "plt.figure(figsize=(5,4))\n",
    "ax = sns.boxplot(y=\"feature\", x=\"recall\", color='#86b95e', data=df) #5689ee\n",
    "#ax = sns.boxplot(x=\"feature\", y=\"value\", hue=\"metric\", data=melt_df)\n",
    "ax.set(xlim=[0.1,1.05]);\n",
    "vals = ax.get_xticks()\n",
    "ax.set_xticklabels(['{:,.0%}'.format(x) for x in vals]);\n",
    "ax.set(ylabel='Features', yticklabels=range(1,15), xlabel='Recall');\n",
    "plt.savefig(\"/data/vision/polina/users/clintonw/recall.png\", dpi=800, bbox_inches=\"tight\", pad_inches=0)"
   ]
  },
  {
   "cell_type": "code",
   "execution_count": null,
   "metadata": {},
   "outputs": [],
   "source": []
  },
  {
   "cell_type": "code",
   "execution_count": 173,
   "metadata": {},
   "outputs": [],
   "source": [
    "exclusive_pairs = []\n",
    "for i in range(num_features-1):\n",
    "    f = all_features[i]\n",
    "    for j in range(i,num_features):\n",
    "        g = all_features[j]\n",
    "        if not np.any([f in features_by_cls[cls] and g in features_by_cls[cls] for cls in C.cls_names]):\n",
    "            exclusive_pairs.append((f,g))"
   ]
  },
  {
   "cell_type": "markdown",
   "metadata": {},
   "source": [
    "predictions = {key:(df.loc[key][['feature_1', 'feature_2', 'feature_3', 'feature_4']].dropna().values, df.loc[key, 'pred_cls']) for key in df.index}"
   ]
  },
  {
   "cell_type": "markdown",
   "metadata": {},
   "source": [
    "incompatible_accnums = []\n",
    "for accnum, preds in predictions.items():\n",
    "    feats, pred_cls = preds\n",
    "    if len([f for f in feats if f not in features_by_cls[pred_cls]]) > 0:\n",
    "        incompatible_accnums.append(accnum)"
   ]
  },
  {
   "cell_type": "code",
   "execution_count": null,
   "metadata": {},
   "outputs": [],
   "source": [
    "for ix, df in enumerate(full_dfs):\n",
    "    miscls_acc_i = miscls_accnums[ix]\n",
    "    key = \"E101415263_0\"\n",
    "    predictions = (df.loc[key][['feature_1', 'feature_2', 'feature_3', 'feature_4']].dropna().values, df.loc[key, 'pred_cls'])\n",
    "    print(predictions)"
   ]
  },
  {
   "cell_type": "code",
   "execution_count": 208,
   "metadata": {},
   "outputs": [
    {
     "name": "stdout",
     "output_type": "stream",
     "text": [
      "miscls_incomp 6 all incompatible 37 all misclass 7 misclass perfect 2 misclass perf+compat 0 all perfect 18\n",
      "miscls_incomp 7 all incompatible 25 all misclass 8 misclass perfect 1 misclass perf+compat 0 all perfect 26\n",
      "miscls_incomp 4 all incompatible 26 all misclass 6 misclass perfect 0 misclass perf+compat 0 all perfect 25\n",
      "miscls_incomp 6 all incompatible 29 all misclass 8 misclass perfect 1 misclass perf+compat 0 all perfect 23\n",
      "miscls_incomp 6 all incompatible 36 all misclass 6 misclass perfect 1 misclass perf+compat 0 all perfect 19\n",
      "miscls_incomp 5 all incompatible 25 all misclass 6 misclass perfect 2 misclass perf+compat 0 all perfect 28\n",
      "miscls_incomp 7 all incompatible 27 all misclass 9 misclass perfect 2 misclass perf+compat 0 all perfect 27\n",
      "miscls_incomp 4 all incompatible 23 all misclass 6 misclass perfect 1 misclass perf+compat 0 all perfect 28\n",
      "miscls_incomp 5 all incompatible 28 all misclass 7 misclass perfect 2 misclass perf+compat 0 all perfect 24\n",
      "miscls_incomp 7 all incompatible 23 all misclass 9 misclass perfect 1 misclass perf+compat 0 all perfect 27\n",
      "miscls_incomp 5 all incompatible 34 all misclass 6 misclass perfect 2 misclass perf+compat 0 all perfect 23\n",
      "miscls_incomp 7 all incompatible 29 all misclass 8 misclass perfect 2 misclass perf+compat 0 all perfect 23\n",
      "miscls_incomp 6 all incompatible 37 all misclass 7 misclass perfect 2 misclass perf+compat 0 all perfect 19\n",
      "miscls_incomp 8 all incompatible 29 all misclass 10 misclass perfect 1 misclass perf+compat 0 all perfect 23\n",
      "miscls_incomp 5 all incompatible 28 all misclass 6 misclass perfect 1 misclass perf+compat 0 all perfect 26\n",
      "miscls_incomp 8 all incompatible 35 all misclass 9 misclass perfect 2 misclass perf+compat 0 all perfect 20\n",
      "miscls_incomp 6 all incompatible 25 all misclass 8 misclass perfect 2 misclass perf+compat 0 all perfect 29\n",
      "miscls_incomp 7 all incompatible 26 all misclass 8 misclass perfect 3 misclass perf+compat 0 all perfect 30\n",
      "miscls_incomp 2 all incompatible 28 all misclass 3 misclass perfect 1 misclass perf+compat 0 all perfect 26\n",
      "miscls_incomp 3 all incompatible 26 all misclass 5 misclass perfect 3 misclass perf+compat 0 all perfect 29\n"
     ]
    }
   ],
   "source": [
    "answer_features = {key:row[['feature_1', 'feature_2', 'feature_3', 'feature_4']].dropna().values for key, row in answer_key.iterrows()}\n",
    "ignore_features = {key:row[['ignore_1', 'ignore_2']].dropna().values for key, row in answer_key.iterrows()}\n",
    "A=[]\n",
    "for ix, df in enumerate(full_dfs):\n",
    "    miscls_acc_i = miscls_accnums[ix]\n",
    "    predictions = {key:(df.loc[key][['feature_1', 'feature_2', 'feature_3', 'feature_4']].dropna().values, df.loc[key, 'pred_cls']) for key in df.index}\n",
    "    \n",
    "    incompatible_accnums, perfect_accnums = [], []\n",
    "    for accnum, preds in predictions.items():\n",
    "        pred_feats, pred_cls = preds\n",
    "        if len([f for f in pred_feats if f not in features_by_cls[pred_cls]]) > 0:\n",
    "            incompatible_accnums.append(accnum)\n",
    "        if len(set([f for f in pred_feats if f not in ignore_features[accnum]]).difference([f \\\n",
    "            for f in answer_features[accnum] if f in pred_feats])) == 0:\n",
    "            perfect_accnums.append(accnum)\n",
    "    miscls_incomp_accnums = set(miscls_acc_i).intersection(incompatible_accnums)\n",
    "    miscls_perfect_accnums = set(miscls_acc_i).intersection(perfect_accnums)\n",
    "    miscls_uhoh_accnums = set(miscls_acc_i).intersection(perfect_accnums).difference(incompatible_accnums)\n",
    "    \n",
    "    print(\"miscls_incomp\", len(miscls_incomp_accnums),\n",
    "          \"all incompatible\", len(incompatible_accnums),\n",
    "          \"all misclass\", len(miscls_acc_i),\n",
    "          \"misclass perfect\", len(miscls_perfect_accnums),\n",
    "          \"misclass perf+compat\", len(miscls_uhoh_accnums),\n",
    "          \"all perfect\", len(perfect_accnums))\n",
    "       \n",
    "    A.append((len(miscls_incomp_accnums),len(incompatible_accnums),len(miscls_acc_i),\n",
    "             len(miscls_perfect_accnums),len(miscls_uhoh_accnums),len(perfect_accnums)))"
   ]
  },
  {
   "cell_type": "code",
   "execution_count": 209,
   "metadata": {},
   "outputs": [],
   "source": [
    "A = np.array(A)"
   ]
  },
  {
   "cell_type": "code",
   "execution_count": 210,
   "metadata": {},
   "outputs": [],
   "source": [
    "df_mis = pd.DataFrame(A, columns=[\"misclassified and incompatible\", \"incompatible\", \"misclassified\",\n",
    "                        \"misclassified but correct features\", \"BAD\", \"correct feature set\"])\n",
    "\n",
    "df_mis[\"% misclassified with incompatible features\"] = df_mis.apply(lambda row: \\\n",
    "         row[\"misclassified and incompatible\"] / row[\"misclassified\"], axis=1)\n",
    "\n",
    "df_mis[\"% correctly classified with incompatible features\"] = df_mis.apply(lambda row: \\\n",
    "         (row[\"incompatible\"] - row[\"misclassified and incompatible\"]) / (60-row[\"misclassified\"]), axis=1)"
   ]
  },
  {
   "cell_type": "code",
   "execution_count": 211,
   "metadata": {},
   "outputs": [],
   "source": [
    "df = df_mis.melt(value_vars=[\"% misclassified with incompatible features\", \"% correctly classified with incompatible features\"], var_name=\"metric\")"
   ]
  },
  {
   "cell_type": "code",
   "execution_count": 217,
   "metadata": {},
   "outputs": [
    {
     "data": {
      "image/png": "[encoded data removed]",
      "text/plain": [
       "<Figure size 432x108 with 1 Axes>"
      ]
     },
     "metadata": {
      "needs_background": "light"
     },
     "output_type": "display_data"
    }
   ],
   "source": [
    "plt.figure(figsize=(6,1.5))\n",
    "ax = sns.boxplot(x=\"value\", y=\"metric\", color='#86b95e', data=df)\n",
    "#ax = sns.boxplot(x=\"feature\", y=\"value\", hue=\"metric\", data=melt_df)\n",
    "#ax.set(xlim=[.65,.9])\n",
    "vals = ax.get_xticks()\n",
    "ax.set_xticklabels(['{:,.0%}'.format(x) for x in vals]);\n",
    "ax.set(xlabel='% of lesions in which a predicted feature is incompatible with the predicted class', ylabel='');\n",
    "ax.set_yticklabels(['Misclassified lesions', 'Correctly classified lesions']);\n",
    "plt.savefig(\"/data/vision/polina/users/clintonw/incomp.png\", dpi=800, bbox_inches=\"tight\", pad_inches=0)"
   ]
  },
  {
   "cell_type": "code",
   "execution_count": 180,
   "metadata": {
    "scrolled": true
   },
   "outputs": [
    {
     "data": {
      "text/plain": [
       "0.46619134475116136"
      ]
     },
     "execution_count": 180,
     "metadata": {},
     "output_type": "execute_result"
    }
   ],
   "source": [
    "((A[:,-1])/(60-A[:,2])).mean()"
   ]
  },
  {
   "cell_type": "markdown",
   "metadata": {},
   "source": [
    "incompatible_accnums = []\n",
    "for accnum, preds in predictions.items():\n",
    "    feats, pred_cls = preds\n",
    "    skip = False\n",
    "    n = len(preds)\n",
    "    for i in range(n-1):\n",
    "        f = preds[i]\n",
    "        for j in range(i+1,n):\n",
    "            g = preds[j]\n",
    "            if not np.any([f in features_by_cls[cls] and g in features_by_cls[cls] for cls in C.cls_names]):\n",
    "                incompatible_accnums.append(accnum)\n",
    "                skip = True\n",
    "            if skip: break\n",
    "        if skip: break"
   ]
  },
  {
   "cell_type": "code",
   "execution_count": 181,
   "metadata": {},
   "outputs": [
    {
     "data": {
      "text/plain": [
       "array([142., 258., 452., 375.])"
      ]
     },
     "execution_count": 181,
     "metadata": {},
     "output_type": "execute_result"
    }
   ],
   "source": [
    "MISCLS[1]/"
   ]
  },
  {
   "cell_type": "code",
   "execution_count": null,
   "metadata": {},
   "outputs": [],
   "source": [
    "incompatible_accnums"
   ]
  },
  {
   "cell_type": "code",
   "execution_count": 155,
   "metadata": {
    "scrolled": false
   },
   "outputs": [
    {
     "data": {
      "text/plain": [
       "11"
      ]
     },
     "execution_count": 155,
     "metadata": {},
     "output_type": "execute_result"
    }
   ],
   "source": [
    "len(incompatible_accnums) - 5"
   ]
  },
  {
   "cell_type": "code",
   "execution_count": null,
   "metadata": {},
   "outputs": [],
   "source": [
    "miscls_accnums"
   ]
  },
  {
   "cell_type": "code",
   "execution_count": 167,
   "metadata": {},
   "outputs": [
    {
     "data": {
      "text/plain": [
       "{'E100962970_0', 'E101415263_0'}"
      ]
     },
     "execution_count": 167,
     "metadata": {},
     "output_type": "execute_result"
    }
   ],
   "source": [
    "set(miscls_accnums).difference(incompatible_accnums)"
   ]
  },
  {
   "cell_type": "code",
   "execution_count": null,
   "metadata": {},
   "outputs": [],
   "source": [
    "exclusive_pairs"
   ]
  },
  {
   "cell_type": "code",
   "execution_count": null,
   "metadata": {},
   "outputs": [],
   "source": [
    "features_by_cls"
   ]
  },
  {
   "cell_type": "code",
   "execution_count": null,
   "metadata": {},
   "outputs": [],
   "source": [
    "predictions"
   ]
  },
  {
   "cell_type": "code",
   "execution_count": 144,
   "metadata": {},
   "outputs": [],
   "source": [
    "keys = [key for key, _, _ in RET]"
   ]
  },
  {
   "cell_type": "code",
   "execution_count": null,
   "metadata": {},
   "outputs": [],
   "source": [
    "predictions"
   ]
  },
  {
   "cell_type": "code",
   "execution_count": null,
   "metadata": {},
   "outputs": [],
   "source": [
    "RET = df.loc[key][['feature_1', 'feature_2', 'feature_3', 'feature_4']].dropna().values"
   ]
  },
  {
   "cell_type": "code",
   "execution_count": 175,
   "metadata": {},
   "outputs": [],
   "source": [
    "x = 0\n",
    "for key, pred, true in RET:\n",
    "    if len(set(pred).symmetric_difference(true)) == 0:\n",
    "        x += 1"
   ]
  },
  {
   "cell_type": "code",
   "execution_count": null,
   "metadata": {},
   "outputs": [],
   "source": [
    "for accnum in [\"12569826_0\", \"E100121654_0\", \"E101415263_0\", \"12783467_0\", \"E102634440_0\", \"12961059_0\"]:\n",
    "    print(accnum, predictions[accnum][1], predictions[accnum][0])"
   ]
  },
  {
   "cell_type": "markdown",
   "metadata": {
    "ExecuteTime": {
     "end_time": "2018-06-13T23:12:36.409085Z",
     "start_time": "2018-06-13T23:12:36.406115Z"
    },
    "heading_collapsed": true
   },
   "source": [
    "### backup"
   ]
  },
  {
   "cell_type": "code",
   "execution_count": 15,
   "metadata": {
    "ExecuteTime": {
     "end_time": "2018-05-16T18:39:39.833525Z",
     "start_time": "2018-05-16T18:39:34.602623Z"
    },
    "collapsed": true,
    "hidden": true
   },
   "outputs": [],
   "source": [
    "model_num = 21\n",
    "model_path = join(C.model_dir, \"model_reader_new%d.hdf5\" % model_num)\n",
    "\n",
    "Z_reader = ['E103312835_1','12823036_0','12569915_0','E102093118_0','E102782525_0','12799652_0','E100894274_0','12874178_3','E100314676_0','12842070_0','13092836_2','12239783_0','12783467_0','13092966_0','E100962970_0','E100183257_1','E102634440_0','E106182827_0','12582632_0','E100121654_0','E100407633_0','E105310461_0','12788616_0','E101225606_0','12678910_1','E101083458_1','12324408_0','13031955_0','E101415263_0','E103192914_0','12888679_2','E106096969_0','E100192709_1','13112385_1','E100718398_0','12207268_0','E105244287_0','E102095465_0','E102613189_0','12961059_0','11907521_0','E105311123_0','12552705_0','E100610622_0','12975280_0','E105918926_0','E103020139_1','E101069048_1','E105427046_0','13028374_0','E100262351_0','12302576_0','12451831_0','E102929168_0','E100383453_0','E105344747_0','12569826_0','E100168661_0','12530153_0','E104697262_0']\n",
    "orig_data_dict, num_samples = cbuild._collect_unaug_data()\n",
    "\n",
    "features_by_cls, feat_count = cnna.collect_features()\n",
    "feat_count.pop(\"homogeneous texture\")\n",
    "#feat_count.pop(\"central scar\")\n",
    "all_features = sorted(list(feat_count.keys()))\n",
    "cls_features = {f: [c for c in C.cls_names if f in features_by_cls[c]] for f in all_features}\n",
    "\n",
    "Z_features = cnna.get_annotated_files(features_by_cls)\n",
    "Z_features.pop(\"homogeneous texture\")\n",
    "#Z_features.pop(\"central scar\")\n",
    "\n",
    "num_features = len(all_features)\n",
    "\n",
    "voi_df = drm.get_voi_dfs()[0]\n",
    "M = keras.models.load_model(model_path)"
   ]
  },
  {
   "cell_type": "markdown",
   "metadata": {
    "ExecuteTime": {
     "end_time": "2018-05-14T16:41:23.282420Z",
     "start_time": "2018-05-14T16:41:18.726Z"
    },
    "collapsed": true,
    "hidden": true
   },
   "source": [
    "M.layers[5].get_weights()[1]"
   ]
  },
  {
   "cell_type": "code",
   "execution_count": 16,
   "metadata": {
    "ExecuteTime": {
     "end_time": "2018-05-16T18:39:40.526930Z",
     "start_time": "2018-05-16T18:39:40.522920Z"
    },
    "collapsed": true,
    "hidden": true
   },
   "outputs": [],
   "source": [
    "def memory():\n",
    "    pid = os.getpid()\n",
    "    py = psutil.Process(pid)\n",
    "    print('Memory use:', py.memory_info()[0]/2.**30)"
   ]
  },
  {
   "cell_type": "code",
   "execution_count": 31,
   "metadata": {
    "ExecuteTime": {
     "end_time": "2018-05-16T22:53:06.175337Z",
     "start_time": "2018-05-16T22:53:06.168343Z"
    },
    "collapsed": true,
    "hidden": true
   },
   "outputs": [],
   "source": [
    "model_num = 26\n",
    "model_path = join(C.model_dir, \"model_reader_new%d.hdf5\" % model_num)\n",
    "inf_xls_path = 'D:\\\\feature_analysis\\\\influence%d.xlsx' % model_num\n",
    "\n",
    "df = pd.DataFrame(columns=[\"true_cls\", \"pred_cls\"] + all_features)\n",
    "#df = pd.read_excel(inf_xls_path, index_col=0)"
   ]
  },
  {
   "cell_type": "code",
   "execution_count": 18,
   "metadata": {
    "ExecuteTime": {
     "end_time": "2018-05-16T18:40:01.196009Z",
     "start_time": "2018-05-16T18:40:00.906267Z"
    },
    "collapsed": true,
    "hidden": true
   },
   "outputs": [],
   "source": [
    "Z_full = np.concatenate([orig_data_dict[cls][-1] for cls in C.cls_names],0)\n",
    "\n",
    "all_imgs = []\n",
    "all_cls = []\n",
    "\n",
    "for lesion_id in Z_full:\n",
    "    cls = voi_df.loc[lesion_id][\"cls\"]\n",
    "    img = np.load(join(C.orig_dir, cls, lesion_id+\".npy\"))\n",
    "    all_imgs.append(np.expand_dims(img,0))\n",
    "    all_cls.append(C.cls_names.index(cls))"
   ]
  },
  {
   "cell_type": "code",
   "execution_count": 32,
   "metadata": {
    "ExecuteTime": {
     "end_time": "2018-05-16T22:53:20.252976Z",
     "start_time": "2018-05-16T22:53:17.016902Z"
    },
    "collapsed": true,
    "hidden": true,
    "scrolled": true
   },
   "outputs": [],
   "source": [
    "importlib.reload(finf)\n",
    "del M, IA\n",
    "K.clear_session()\n",
    "M = keras.models.load_model(model_path)\n",
    "IA = finf.InfluenceAnalyzer(M, voi_df, all_imgs, all_cls)"
   ]
  },
  {
   "cell_type": "code",
   "execution_count": null,
   "metadata": {
    "ExecuteTime": {
     "end_time": "2018-05-17T14:26:17.670024Z",
     "start_time": "2018-05-17T01:11:44.778564Z"
    },
    "collapsed": true,
    "hidden": true
   },
   "outputs": [],
   "source": [
    "t = time.time()\n",
    "for lesion_id in Z_reader:\n",
    "    cls = voi_df.loc[lesion_id][\"cls\"]\n",
    "    img = np.load(join(C.orig_dir, cls, lesion_id+\".npy\"))\n",
    "    img = np.expand_dims(img,0)\n",
    "    pred_cls = M.predict(img)[0]\n",
    "    pred_cls = C.cls_names[list(pred_cls).index(pred_cls.max())]\n",
    "        \n",
    "    print(lesion_id)\n",
    "    \n",
    "    g_test = IA.get_grad(lesion_id, pred_cls=pred_cls)\n",
    "    s_test = IA.get_stest(g_test)\n",
    "\n",
    "    del M, IA\n",
    "    K.clear_session()\n",
    "    M = keras.models.load_model(model_path)\n",
    "    IA = finf.InfluenceAnalyzer(M, voi_df, all_imgs, all_cls)\n",
    "\n",
    "    I = {}\n",
    "    for f in Z_features:\n",
    "        I[f] = IA.get_avg_influence(Z_features[f], s_test)\n",
    "\n",
    "    del M, IA\n",
    "    K.clear_session()\n",
    "    M = keras.models.load_model(model_path)\n",
    "    IA = finf.InfluenceAnalyzer(M, voi_df, all_imgs, all_cls)\n",
    "    \n",
    "    df.loc[lesion_id] = [cls, pred_cls] + list(I[f] for f in df.columns[2:])\n",
    "\n",
    "    print(time.time() - t)\n",
    "    memory()"
   ]
  },
  {
   "cell_type": "code",
   "execution_count": 36,
   "metadata": {
    "ExecuteTime": {
     "end_time": "2018-05-17T14:26:50.959760Z",
     "start_time": "2018-05-17T14:26:50.955748Z"
    },
    "hidden": true
   },
   "outputs": [
    {
     "data": {
      "text/plain": [
       "'D:\\\\feature_analysis\\\\influence26.xlsx'"
      ]
     },
     "execution_count": 36,
     "metadata": {},
     "output_type": "execute_result"
    }
   ],
   "source": [
    "inf_xls_path"
   ]
  },
  {
   "cell_type": "code",
   "execution_count": 37,
   "metadata": {
    "ExecuteTime": {
     "end_time": "2018-05-17T14:26:59.477623Z",
     "start_time": "2018-05-17T14:26:59.395197Z"
    },
    "collapsed": true,
    "hidden": true
   },
   "outputs": [],
   "source": [
    "df.to_excel(inf_xls_path)"
   ]
  },
  {
   "cell_type": "code",
   "execution_count": null,
   "metadata": {
    "collapsed": true,
    "hidden": true
   },
   "outputs": [],
   "source": []
  },
  {
   "cell_type": "code",
   "execution_count": null,
   "metadata": {
    "collapsed": true,
    "hidden": true
   },
   "outputs": [],
   "source": []
  },
  {
   "cell_type": "code",
   "execution_count": null,
   "metadata": {
    "ExecuteTime": {
     "end_time": "2018-05-14T22:45:33.942966Z",
     "start_time": "2018-05-14T22:45:33.790216Z"
    },
    "collapsed": true,
    "hidden": true
   },
   "outputs": [],
   "source": [
    "cls = voi_df.loc[lesion_id][\"cls\"]\n",
    "x_test = np.load(join(C.orig_dir, cls, lesion_id+\".npy\"))\n",
    "vis.draw_slices(x_test)"
   ]
  },
  {
   "cell_type": "markdown",
   "metadata": {
    "ExecuteTime": {
     "end_time": "2018-05-15T15:38:55.913414Z",
     "start_time": "2018-05-15T15:38:37.999551Z"
    },
    "hidden": true
   },
   "source": [
    "Memory leak test\n",
    "for _ in range(10):\n",
    "    memory()\n",
    "    g_test = IA.get_grad(lesion_id)\n",
    "memory()"
   ]
  },
  {
   "cell_type": "markdown",
   "metadata": {
    "heading_collapsed": true
   },
   "source": [
    "### extra"
   ]
  },
  {
   "cell_type": "code",
   "execution_count": 2,
   "metadata": {
    "ExecuteTime": {
     "end_time": "2018-05-14T16:41:23.716962Z",
     "start_time": "2018-05-14T16:41:23.709943Z"
    },
    "collapsed": true,
    "hidden": true
   },
   "outputs": [],
   "source": [
    "def perturb_weights(W_true, t):\n",
    "    eps = 1e-5\n",
    "    W = copy.deepcopy(W_true)\n",
    "    t_ix = 0\n",
    "    \n",
    "    for w_ix in range(len(W)):\n",
    "        W[w_ix] += eps * np.reshape(t[t_ix:t_ix+W[w_ix].size], W[w_ix].shape)\n",
    "        t_ix += W[w_ix].size\n",
    "        \n",
    "    return W"
   ]
  },
  {
   "cell_type": "code",
   "execution_count": 3,
   "metadata": {
    "ExecuteTime": {
     "end_time": "2018-05-14T16:41:23.950594Z",
     "start_time": "2018-05-14T16:41:23.903360Z"
    },
    "collapsed": true,
    "hidden": true
   },
   "outputs": [],
   "source": [
    "def get_grad(lesion_id, perturb_W=None):\n",
    "    C = config.Config()\n",
    "    \n",
    "    cls = voi_df.loc[lesion_id][\"cls\"]\n",
    "    img = np.load(join(C.orig_dir, cls, lesion_id+\".npy\"))\n",
    "    img = np.expand_dims(img,0)\n",
    "\n",
    "    y_true = np_utils.to_categorical(C.cls_names.index(cls), 6)\n",
    "    loss = K.categorical_crossentropy(y_true, M.output)\n",
    "    \n",
    "    with tf.device('/gpu:0'):\n",
    "        g = K.gradients(loss, M.trainable_weights)\n",
    "    with tf.Session() as sess:\n",
    "        sess.run(tf.global_variables_initializer())\n",
    "        g_i = sess.run(g, feed_dict={M.input:img, K.learning_phase():0})\n",
    "        if perturb_W is not None:\n",
    "            feed_dict_plus = {M.trainable_weights[i]:perturb_W[i] for i in range(len(perturb_W))}\n",
    "            g_i_plus = sess.run(g, feed_dict={**feed_dict_plus, M.input:img, K.learning_phase():0})\n",
    "\n",
    "    g_i = np.concatenate([x.flatten() for x in g_i], 0)\n",
    "    \n",
    "    if perturb_W is not None:\n",
    "        g_i_plus = np.concatenate([x.flatten() for x in g_i_plus], 0)\n",
    "        return g_i, g_i_plus\n",
    "    \n",
    "    return g_i"
   ]
  },
  {
   "cell_type": "code",
   "execution_count": 4,
   "metadata": {
    "ExecuteTime": {
     "end_time": "2018-05-14T16:41:24.068235Z",
     "start_time": "2018-05-14T16:41:24.062220Z"
    },
    "collapsed": true,
    "hidden": true
   },
   "outputs": [],
   "source": [
    "def get_grads(Z_sample):\n",
    "    eps = 1e-5\n",
    "    Ht = np.zeros(g_test.shape)\n",
    "    feed_dict_plus = {M.trainable_weights[i]:perturb_W[i] for i in range(len(perturb_W))}\n",
    "    losses = [K.categorical_crossentropy(y_true, M.output) for y_true in \\\n",
    "              [np_utils.to_categorical(i, 6) for i in range(6)]]\n",
    "        \n",
    "    t = time.time()\n",
    "    with tf.device('/gpu:0'):\n",
    "        g = [K.gradients(loss, M.trainable_weights) for loss in losses]\n",
    "    with tf.Session() as sess:\n",
    "        sess.run(tf.global_variables_initializer())\n",
    "        for ix in range(len(Z_sample)):\n",
    "            g_i = sess.run(g[classes[ix]], feed_dict={M.input:imgs[ix], K.learning_phase():0})\n",
    "            g_i = np.concatenate([x.flatten() for x in g_i], 0)\n",
    "    if verbose:\n",
    "        print(time.time()-t)\n",
    "    \n",
    "    return Ht / len(Z_sample)"
   ]
  },
  {
   "cell_type": "code",
   "execution_count": 24,
   "metadata": {
    "ExecuteTime": {
     "end_time": "2018-05-14T16:47:12.468765Z",
     "start_time": "2018-05-14T16:47:12.429514Z"
    },
    "collapsed": true,
    "hidden": true
   },
   "outputs": [],
   "source": [
    "def get_HVP(perturb_W, Z_sample, verbose=True):\n",
    "    eps = 1e-5\n",
    "    Ht = np.zeros(g_test.shape)\n",
    "    feed_dict_plus = {M.trainable_weights[i]:perturb_W[i] for i in range(len(perturb_W))}\n",
    "    losses = [K.categorical_crossentropy(y_true, M.output) for y_true in \\\n",
    "              [np_utils.to_categorical(i, 6) for i in range(6)]]\n",
    "        \n",
    "    t = time.time()\n",
    "    with tf.device('/gpu:0'):\n",
    "        g = [K.gradients(loss, M.trainable_weights) for loss in losses]\n",
    "    with tf.Session() as sess:\n",
    "        sess.run(tf.global_variables_initializer())\n",
    "        for ix in range(len(Z_sample)):\n",
    "            g_i = sess.run(g[classes[ix]], feed_dict={M.input:imgs[ix], K.learning_phase():0})\n",
    "            g_i_plus = sess.run(g[classes[ix]], feed_dict={**feed_dict_plus, M.input:imgs[ix], K.learning_phase():0})\n",
    "    \n",
    "            g_i = np.concatenate([x.flatten() for x in g_i], 0)\n",
    "            g_i_plus = np.concatenate([x.flatten() for x in g_i_plus], 0)\n",
    "\n",
    "            Ht += (g_i_plus - g_i)/eps\n",
    "    if verbose:\n",
    "        print(time.time()-t)\n",
    "    \n",
    "    return Ht / len(Z_sample)"
   ]
  },
  {
   "cell_type": "code",
   "execution_count": 23,
   "metadata": {
    "ExecuteTime": {
     "end_time": "2018-05-14T16:46:54.464603Z",
     "start_time": "2018-05-14T16:46:54.461595Z"
    },
    "collapsed": true,
    "hidden": true
   },
   "outputs": [],
   "source": [
    "t_k = np.zeros(g_test.shape)\n",
    "r_k = g_test#-Ht\n",
    "p_k = r_k"
   ]
  },
  {
   "cell_type": "code",
   "execution_count": null,
   "metadata": {
    "ExecuteTime": {
     "end_time": "2018-05-14T16:59:44.825692Z",
     "start_time": "2018-05-14T16:47:36.093846Z"
    },
    "collapsed": true,
    "hidden": true
   },
   "outputs": [],
   "source": [
    "num_iters = 15\n",
    "#phi_hist = []\n",
    "t = time.time()\n",
    "for _ in range(num_iters):\n",
    "    #Z_sample = random.sample(list(Z_full), 15)\n",
    "    W_new = perturb_weights(W, p_k)\n",
    "    Hp = get_HVP(W_new, Z_full)\n",
    "\n",
    "    alpha = np.dot(r_k, r_k) / np.dot(p_k, Hp)\n",
    "    t_k += alpha * p_k\n",
    "    r_k2 = r_k - alpha * Hp\n",
    "    #phi_hist = .5*np.dot(t_k, Ht) - g_test\n",
    "\n",
    "    beta = np.dot(r_k2, r_k2) / np.dot(r_k, r_k)\n",
    "    r_k = r_k2\n",
    "    p_k = r_k + beta*p_k\n",
    "print(time.time()-t)"
   ]
  },
  {
   "cell_type": "code",
   "execution_count": 33,
   "metadata": {
    "ExecuteTime": {
     "end_time": "2018-05-14T17:02:07.903731Z",
     "start_time": "2018-05-14T17:02:07.899692Z"
    },
    "collapsed": true,
    "hidden": true
   },
   "outputs": [],
   "source": [
    "del p_k"
   ]
  },
  {
   "cell_type": "code",
   "execution_count": 36,
   "metadata": {
    "ExecuteTime": {
     "end_time": "2018-05-14T17:11:21.860049Z",
     "start_time": "2018-05-14T17:11:21.834986Z"
    },
    "collapsed": true,
    "hidden": true
   },
   "outputs": [],
   "source": [
    "def get_grads(imgs, classes, s_test, verbose=True):\n",
    "    eps = 1e-5\n",
    "    Ht = np.zeros(g_test.shape)\n",
    "    losses = [K.categorical_crossentropy(y_true, M.output) for y_true in \\\n",
    "              [np_utils.to_categorical(i, 6) for i in range(6)]]\n",
    "        \n",
    "    I = 0\n",
    "    t = time.time()\n",
    "    with tf.device('/gpu:0'):\n",
    "        g = [K.gradients(loss, M.trainable_weights) for loss in losses]\n",
    "    with tf.Session() as sess:\n",
    "        sess.run(tf.global_variables_initializer())\n",
    "        for ix in range(len(classes)):\n",
    "            g_i = sess.run(g[classes[ix]], feed_dict={M.input:imgs[ix], K.learning_phase():0})\n",
    "            g_i = np.concatenate([x.flatten() for x in g_i], 0)\n",
    "            I -= np.dot(g_i, s_test)\n",
    "    if verbose:\n",
    "        print(time.time()-t)\n",
    "    \n",
    "    return I / len(classes)"
   ]
  },
  {
   "cell_type": "markdown",
   "metadata": {
    "heading_collapsed": true
   },
   "source": [
    "### others"
   ]
  },
  {
   "cell_type": "code",
   "execution_count": 47,
   "metadata": {
    "ExecuteTime": {
     "end_time": "2018-05-14T20:43:33.458882Z",
     "start_time": "2018-05-14T20:43:33.438831Z"
    },
    "collapsed": true,
    "hidden": true
   },
   "outputs": [],
   "source": [
    "df_0 = hf.pickle_load(join(C.base_dir, \"data\", \"DFs4.bin\"))[0]"
   ]
  },
  {
   "cell_type": "code",
   "execution_count": 41,
   "metadata": {
    "ExecuteTime": {
     "end_time": "2018-05-14T20:28:44.605752Z",
     "start_time": "2018-05-14T20:28:44.576671Z"
    },
    "collapsed": true,
    "hidden": true
   },
   "outputs": [],
   "source": [
    "data_dir = r\"C:\\Users\\Clinton\\Documents\\voi-classifier\\data\"\n",
    "answer_key = join(data_dir, \"ground_truth.xlsx\")\n",
    "answer_key = pd.read_excel(answer_key, index_col=0)"
   ]
  },
  {
   "cell_type": "code",
   "execution_count": 46,
   "metadata": {
    "ExecuteTime": {
     "end_time": "2018-05-14T20:42:25.459019Z",
     "start_time": "2018-05-14T20:42:25.454004Z"
    },
    "hidden": true
   },
   "outputs": [
    {
     "data": {
      "text/plain": [
       "Index(['true_cls', 'feature_1', 'feature_2', 'feature_3', 'feature_4',\n",
       "       'ignore_1', 'ignore_2', 'BLANK', 'Unnamed: 9', 'Class', 'Num features'],\n",
       "      dtype='object')"
      ]
     },
     "execution_count": 46,
     "metadata": {},
     "output_type": "execute_result"
    }
   ],
   "source": [
    "answer_key.columns"
   ]
  },
  {
   "cell_type": "code",
   "execution_count": 53,
   "metadata": {
    "ExecuteTime": {
     "end_time": "2018-05-14T20:45:12.644340Z",
     "start_time": "2018-05-14T20:45:12.638323Z"
    },
    "collapsed": true,
    "hidden": true
   },
   "outputs": [],
   "source": [
    "for z_test, row in answer_key.iterrows():\n",
    "    cls = df_0.loc[z_test, \"pred_cls\"]\n",
    "    feats = row[[f for f in answer_key.columns if f.startswith('feat')]].dropna().values\n",
    "    break"
   ]
  },
  {
   "cell_type": "code",
   "execution_count": 58,
   "metadata": {
    "ExecuteTime": {
     "end_time": "2018-05-14T20:45:36.706311Z",
     "start_time": "2018-05-14T20:45:36.702299Z"
    },
    "hidden": true
   },
   "outputs": [
    {
     "data": {
      "text/plain": [
       "array(['nodular growth', 'heterogeneous lesion',\n",
       "       'progressive enhancement'], dtype=object)"
      ]
     },
     "execution_count": 58,
     "metadata": {},
     "output_type": "execute_result"
    }
   ],
   "source": [
    "feats.dropna().values"
   ]
  },
  {
   "cell_type": "code",
   "execution_count": null,
   "metadata": {
    "collapsed": true,
    "hidden": true
   },
   "outputs": [],
   "source": []
  }
 ],
 "metadata": {
  "kernelspec": {
   "display_name": "Python 3",
   "language": "python",
   "name": "python3"
  },
  "language_info": {
   "codemirror_mode": {
    "name": "ipython",
    "version": 3
   },
   "file_extension": ".py",
   "mimetype": "text/x-python",
   "name": "python",
   "nbconvert_exporter": "python",
   "pygments_lexer": "ipython3",
   "version": "3.6.7"
  },
  "varInspector": {
   "cols": {
    "lenName": 16,
    "lenType": 16,
    "lenVar": 40
   },
   "kernels_config": {
    "python": {
     "delete_cmd_postfix": "",
     "delete_cmd_prefix": "del ",
     "library": "var_list.py",
     "varRefreshCmd": "print(var_dic_list())"
    },
    "r": {
     "delete_cmd_postfix": ") ",
     "delete_cmd_prefix": "rm(",
     "library": "var_list.r",
     "varRefreshCmd": "cat(var_dic_list()) "
    }
   },
   "position": {
    "height": "529px",
    "left": "1032.27px",
    "right": "20px",
    "top": "116px",
    "width": "350px"
   },
   "types_to_exclude": [
    "module",
    "function",
    "builtin_function_or_method",
    "instance",
    "_Feature"
   ],
   "window_display": false
  }
 },
 "nbformat": 4,
 "nbformat_minor": 2
}
